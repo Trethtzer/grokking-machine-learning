{
 "cells": [
  {
   "cell_type": "markdown",
   "metadata": {},
   "source": [
    "## 4.1 Does your network make good predictions?"
   ]
  },
  {
   "cell_type": "code",
   "execution_count": 2,
   "metadata": {},
   "outputs": [
    {
     "name": "stdout",
     "output_type": "stream",
     "text": [
      "0.30250000000000005\n"
     ]
    }
   ],
   "source": [
    "knob_weight = 0.5\n",
    "input = 0.5\n",
    "goal_pred = 0.8\n",
    "\n",
    "pred = input * knob_weight\n",
    "error = (pred - goal_pred)**2 #The idea of the square are two -> it makes the error positive, and it makes bigger the result if pred - goal_pred > 1 (big error) and smaller if < 1.\n",
    "print(error)"
   ]
  },
  {
   "cell_type": "markdown",
   "metadata": {},
   "source": [
    "## 4.2 What is the simplest form of neural learning?"
   ]
  },
  {
   "cell_type": "code",
   "execution_count": 9,
   "metadata": {},
   "outputs": [
    {
     "name": "stdout",
     "output_type": "stream",
     "text": [
      "Error: \n",
      "0.022499999999999975\n",
      "Error up: \n",
      "0.004224999999999993\n",
      "Error down: \n",
      "0.05522499999999994\n",
      "Weight before adjustment\n",
      "0.1\n",
      "Weight after adjustment\n",
      "0.11\n"
     ]
    }
   ],
   "source": [
    "# 1. An empty network\n",
    "weight = 0.1\n",
    "lr = 0.01\n",
    "def neural_network(input, weight):\n",
    "    pred = input*weight\n",
    "    return pred\n",
    "\n",
    "# 2. Predict and evaluate the error\n",
    "number_of_toes = [8.5]\n",
    "win_or_lose = [1]\n",
    "\n",
    "input = number_of_toes[0]\n",
    "true = win_or_lose[0]\n",
    "pred = neural_network(input,weight)\n",
    "error = (pred - true) ** 2\n",
    "print(\"Error: \")\n",
    "print(error)\n",
    "\n",
    "# 3. Compare making a prediction with a higher weight\n",
    "lr = 0.01\n",
    "pred_up = neural_network(input,weight+lr)\n",
    "error_up = (pred_up - true) ** 2\n",
    "print(\"Error up: \")\n",
    "print(error_up)\n",
    "\n",
    "# 4. Compare making a prediction with a lower weight\n",
    "lr = 0.01\n",
    "pred_down = neural_network(input, weight - lr)\n",
    "error_down = (pred_down - true) ** 2\n",
    "print(\"Error down: \")\n",
    "print(error_down)\n",
    "\n",
    "# 5. Comparing errors and setting the new weight\n",
    "print(\"Weight before adjustment\")\n",
    "print(weight)\n",
    "if (error > error_down or error > error_up):\n",
    "    if (error_down > error_up):\n",
    "        weight = weight + lr\n",
    "    else:\n",
    "        weight = weight - lr\n",
    "print(\"Weight after adjustment\")        \n",
    "print(weight)"
   ]
  }
 ],
 "metadata": {
  "kernelspec": {
   "display_name": "Python 3",
   "language": "python",
   "name": "python3"
  },
  "language_info": {
   "codemirror_mode": {
    "name": "ipython",
    "version": 3
   },
   "file_extension": ".py",
   "mimetype": "text/x-python",
   "name": "python",
   "nbconvert_exporter": "python",
   "pygments_lexer": "ipython3",
   "version": "3.8.6"
  }
 },
 "nbformat": 4,
 "nbformat_minor": 4
}
